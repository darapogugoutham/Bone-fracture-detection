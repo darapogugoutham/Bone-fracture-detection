{
 "cells": [
  {
   "cell_type": "code",
   "execution_count": 7,
   "metadata": {},
   "outputs": [
    {
     "name": "stdout",
     "output_type": "stream",
     "text": [
      "Using device: cpu\n"
     ]
    }
   ],
   "source": [
    "# MURA Shoulder X-ray Classification with Resilient Blocks and Ensemble\n",
    "\n",
    "# This block handles all imports required for the code to function properly.\n",
    "# We use libraries like torch for deep learning, albumentations for augmentations,\n",
    "# timm for pre-trained models, and OpenCV for image handling.\n",
    "\n",
    "import os\n",
    "import cv2\n",
    "import numpy as np\n",
    "import pandas as pd\n",
    "import matplotlib.pyplot as plt\n",
    "import seaborn as sns\n",
    "from tqdm import tqdm\n",
    "from sklearn.model_selection import train_test_split\n",
    "from sklearn.metrics import classification_report, confusion_matrix\n",
    "\n",
    "import torch\n",
    "import torch.nn as nn\n",
    "import torch.optim as optim\n",
    "from torch.utils.data import Dataset, DataLoader\n",
    "\n",
    "import albumentations as A\n",
    "from albumentations.pytorch import ToTensorV2\n",
    "from timm import create_model\n",
    "\n",
    "# We'll use the CPU for this implementation to ensure it runs on all systems\n",
    "# including restricted or no-GPU environments.\n",
    "device = torch.device(\"cpu\")\n",
    "print(\"Using device:\", device)\n"
   ]
  },
  {
   "cell_type": "code",
   "execution_count": 8,
   "metadata": {},
   "outputs": [],
   "source": [
    "# This block reads image file paths and assigns labels (1 = fracture, 0 = normal).\n",
    "# It also defines augmentation pipelines for training and normalization for validation/test.\n",
    "\n",
    "dataset_path = \"C:/Users/gouth/Downloads/MURA-v1.1/train/XR_SHOULDER\"\n",
    "\n",
    "def create_dataframe(dataset_path):\n",
    "    data = []\n",
    "    for patient in os.listdir(dataset_path):\n",
    "        patient_path = os.path.join(dataset_path, patient)\n",
    "        for study in os.listdir(patient_path):\n",
    "            study_path = os.path.join(patient_path, study)\n",
    "            label = 1 if \"positive\" in study else 0\n",
    "            for image in os.listdir(study_path):\n",
    "                image_path = os.path.join(study_path, image)\n",
    "                data.append({\"image_path\": image_path, \"label\": label})\n",
    "    return pd.DataFrame(data)\n",
    "\n",
    "df = create_dataframe(dataset_path)\n",
    "train_df, temp_df = train_test_split(df, test_size=0.3, random_state=42)\n",
    "valid_df, test_df = train_test_split(temp_df, test_size=1/3, random_state=42)\n",
    "\n",
    "# Define transformations\n",
    "train_transform = A.Compose([\n",
    "    A.Resize(224, 224),\n",
    "    A.HorizontalFlip(p=0.5),\n",
    "    A.ShiftScaleRotate(p=0.5),\n",
    "    A.RandomBrightnessContrast(p=0.2),\n",
    "    A.Normalize(mean=(0.485, 0.456, 0.406), std=(0.229, 0.224, 0.225)),\n",
    "    ToTensorV2()\n",
    "])\n",
    "\n",
    "valid_transform = A.Compose([\n",
    "    A.Resize(224, 224),\n",
    "    A.Normalize(mean=(0.485, 0.456, 0.406), std=(0.229, 0.224, 0.225)),\n",
    "    ToTensorV2()\n",
    "])\n"
   ]
  },
  {
   "cell_type": "code",
   "execution_count": 9,
   "metadata": {},
   "outputs": [],
   "source": [
    "# Custom dataset class that loads images using OpenCV, applies transformations, and prepares batches.\n",
    "\n",
    "class MURADataset(Dataset):\n",
    "    def __init__(self, dataframe, transform=None):\n",
    "        self.df = dataframe\n",
    "        self.transform = transform\n",
    "\n",
    "    def __getitem__(self, idx):\n",
    "        img_path = self.df.iloc[idx][\"image_path\"]\n",
    "        img = cv2.imread(img_path)\n",
    "        img = cv2.cvtColor(img, cv2.COLOR_BGR2RGB)\n",
    "        label = self.df.iloc[idx][\"label\"]\n",
    "        if self.transform:\n",
    "            img = self.transform(image=img)['image']\n",
    "        return img, label\n",
    "\n",
    "    def __len__(self):\n",
    "        return len(self.df)\n",
    "\n",
    "batch_size = 32\n",
    "train_dataset = MURADataset(train_df, transform=train_transform)\n",
    "valid_dataset = MURADataset(valid_df, transform=valid_transform)\n",
    "test_dataset = MURADataset(test_df, transform=valid_transform)\n",
    "\n",
    "train_loader = DataLoader(train_dataset, batch_size=batch_size, shuffle=True)\n",
    "valid_loader = DataLoader(valid_dataset, batch_size=batch_size, shuffle=False)\n",
    "test_loader = DataLoader(test_dataset, batch_size=1, shuffle=False)\n",
    "\n"
   ]
  },
  {
   "cell_type": "code",
   "execution_count": 10,
   "metadata": {},
   "outputs": [],
   "source": [
    "# Define a simple CNN as a baseline and a utility function to load pre-trained models.\n",
    "\n",
    "class SimpleCNN(nn.Module):\n",
    "    def __init__(self):\n",
    "        super(SimpleCNN, self).__init__()\n",
    "        self.conv1 = nn.Conv2d(3, 16, 3, padding=1)\n",
    "        self.conv2 = nn.Conv2d(16, 32, 3, padding=1)\n",
    "        self.pool = nn.MaxPool2d(2, 2)\n",
    "        self.fc1 = nn.Linear(32 * 56 * 56, 1)\n",
    "\n",
    "    def forward(self, x):\n",
    "        x = self.pool(torch.relu(self.conv1(x)))\n",
    "        x = self.pool(torch.relu(self.conv2(x)))\n",
    "        x = x.view(x.size(0), -1)\n",
    "        x = self.fc1(x)\n",
    "        return x\n",
    "\n",
    "# Function to safely load models with pretrained weights (if available)\n",
    "def get_model(model_name):\n",
    "    if model_name == 'simplecnn':\n",
    "        return SimpleCNN()\n",
    "    try:\n",
    "        return create_model(model_name, pretrained=True, num_classes=1)\n",
    "    except Exception as e:\n",
    "        print(f\"⚠️ Failed to load pretrained weights for {model_name}. Using untrained model.\")\n",
    "        return create_model(model_name, pretrained=False, num_classes=1)\n",
    "\n"
   ]
  },
  {
   "cell_type": "code",
   "execution_count": 11,
   "metadata": {},
   "outputs": [],
   "source": [
    "# Define training loop, loss function (with class balance), and evaluation logic.\n",
    "\n",
    "def get_criterion():\n",
    "    pos_weight = torch.tensor([len(train_df[train_df.label == 0]) / len(train_df[train_df.label == 1])]).to(device)\n",
    "    return nn.BCEWithLogitsLoss(pos_weight=pos_weight)\n",
    "\n",
    "# Training logic with validation accuracy tracking and model saving\n",
    "def train_model(model, model_name, train_loader, valid_loader, epochs=25):\n",
    "    model = model.to(device)\n",
    "    criterion = get_criterion()\n",
    "    optimizer = optim.Adam(model.parameters(), lr=0.001)\n",
    "    scheduler = torch.optim.lr_scheduler.CosineAnnealingLR(optimizer, T_max=10)\n",
    "    best_acc = 0\n",
    "    for epoch in range(epochs):\n",
    "        model.train()\n",
    "        for inputs, labels in tqdm(train_loader, desc=f\"{model_name} - Epoch {epoch+1}/{epochs}\"):\n",
    "            inputs, labels = inputs.to(device), labels.float().unsqueeze(1).to(device)\n",
    "            optimizer.zero_grad()\n",
    "            outputs = model(inputs)\n",
    "            loss = criterion(outputs, labels)\n",
    "            loss.backward()\n",
    "            optimizer.step()\n",
    "        # Validation\n",
    "        model.eval()\n",
    "        correct, total = 0, 0\n",
    "        with torch.no_grad():\n",
    "            for inputs, labels in valid_loader:\n",
    "                inputs, labels = inputs.to(device), labels.float().unsqueeze(1).to(device)\n",
    "                outputs = model(inputs)\n",
    "                preds = torch.sigmoid(outputs) > 0.5\n",
    "                correct += (preds == labels).sum().item()\n",
    "                total += labels.size(0)\n",
    "        val_acc = 100 * correct / total\n",
    "        print(f\"{model_name} Validation Accuracy: {val_acc:.2f}%\")\n",
    "        if val_acc > best_acc:\n",
    "            best_acc = val_acc\n",
    "            torch.save(model.state_dict(), f\"best_{model_name}.pth\")\n",
    "        scheduler.step()\n",
    "    return model\n",
    "\n",
    "# Evaluation logic with accuracy, classification report, and confusion matrix\n",
    "def evaluate_model(model, model_name, return_preds=False):\n",
    "    model.load_state_dict(torch.load(f\"best_{model_name}.pth\", map_location=device))\n",
    "    model.eval()\n",
    "    test_preds, test_labels = [], []\n",
    "    with torch.no_grad():\n",
    "        for inputs, labels in test_loader:\n",
    "            inputs = inputs.to(device)\n",
    "            outputs = model(inputs)\n",
    "            pred = torch.sigmoid(outputs).cpu().numpy()[0][0]\n",
    "            test_preds.append(pred)\n",
    "            test_labels.append(labels.item())\n",
    "    binary_preds = [int(p > 0.5) for p in test_preds]\n",
    "    acc = 100 * np.mean(np.array(binary_preds) == np.array(test_labels))\n",
    "    print(f\"\\n{model_name} Test Accuracy: {acc:.2f}%\")\n",
    "    print(classification_report(test_labels, binary_preds, target_names=[\"Normal\", \"Fracture\"]))\n",
    "    cm = confusion_matrix(test_labels, binary_preds)\n",
    "    plt.figure(figsize=(6, 6))\n",
    "    sns.heatmap(cm, annot=True, fmt='d', cmap='Blues', xticklabels=['Normal', 'Fracture'], yticklabels=['Normal', 'Fracture'])\n",
    "    plt.title(f'{model_name} - Confusion Matrix')\n",
    "    plt.xlabel('Predicted')\n",
    "    plt.ylabel('Actual')\n",
    "    plt.show()\n",
    "    if return_preds:\n",
    "        return test_preds, test_labels, acc\n",
    "    return acc\n"
   ]
  },
  {
   "cell_type": "code",
   "execution_count": 12,
   "metadata": {},
   "outputs": [
    {
     "name": "stdout",
     "output_type": "stream",
     "text": [
      "\n",
      "🚀 Starting: efficientnet_b0\n"
     ]
    },
    {
     "name": "stderr",
     "output_type": "stream",
     "text": [
      "efficientnet_b0 - Epoch 1/25: 100%|██████████████████████████████████████████████████| 184/184 [24:31<00:00,  8.00s/it]\n"
     ]
    },
    {
     "name": "stdout",
     "output_type": "stream",
     "text": [
      "efficientnet_b0 Validation Accuracy: 72.97%\n"
     ]
    },
    {
     "name": "stderr",
     "output_type": "stream",
     "text": [
      "efficientnet_b0 - Epoch 2/25: 100%|██████████████████████████████████████████████████| 184/184 [22:39<00:00,  7.39s/it]\n"
     ]
    },
    {
     "name": "stdout",
     "output_type": "stream",
     "text": [
      "efficientnet_b0 Validation Accuracy: 73.87%\n"
     ]
    },
    {
     "name": "stderr",
     "output_type": "stream",
     "text": [
      "efficientnet_b0 - Epoch 3/25: 100%|██████████████████████████████████████████████████| 184/184 [16:48<00:00,  5.48s/it]\n"
     ]
    },
    {
     "name": "stdout",
     "output_type": "stream",
     "text": [
      "efficientnet_b0 Validation Accuracy: 74.70%\n"
     ]
    },
    {
     "name": "stderr",
     "output_type": "stream",
     "text": [
      "efficientnet_b0 - Epoch 4/25: 100%|██████████████████████████████████████████████████| 184/184 [15:25<00:00,  5.03s/it]\n"
     ]
    },
    {
     "name": "stdout",
     "output_type": "stream",
     "text": [
      "efficientnet_b0 Validation Accuracy: 76.49%\n"
     ]
    },
    {
     "name": "stderr",
     "output_type": "stream",
     "text": [
      "efficientnet_b0 - Epoch 5/25: 100%|██████████████████████████████████████████████████| 184/184 [15:26<00:00,  5.04s/it]\n"
     ]
    },
    {
     "name": "stdout",
     "output_type": "stream",
     "text": [
      "efficientnet_b0 Validation Accuracy: 76.73%\n"
     ]
    },
    {
     "name": "stderr",
     "output_type": "stream",
     "text": [
      "efficientnet_b0 - Epoch 6/25: 100%|██████████████████████████████████████████████████| 184/184 [16:16<00:00,  5.31s/it]\n"
     ]
    },
    {
     "name": "stdout",
     "output_type": "stream",
     "text": [
      "efficientnet_b0 Validation Accuracy: 77.09%\n"
     ]
    },
    {
     "name": "stderr",
     "output_type": "stream",
     "text": [
      "efficientnet_b0 - Epoch 7/25: 100%|██████████████████████████████████████████████████| 184/184 [17:50<00:00,  5.82s/it]\n"
     ]
    },
    {
     "name": "stdout",
     "output_type": "stream",
     "text": [
      "efficientnet_b0 Validation Accuracy: 78.94%\n"
     ]
    },
    {
     "name": "stderr",
     "output_type": "stream",
     "text": [
      "efficientnet_b0 - Epoch 8/25: 100%|██████████████████████████████████████████████████| 184/184 [17:48<00:00,  5.81s/it]\n"
     ]
    },
    {
     "name": "stdout",
     "output_type": "stream",
     "text": [
      "efficientnet_b0 Validation Accuracy: 77.09%\n"
     ]
    },
    {
     "name": "stderr",
     "output_type": "stream",
     "text": [
      "efficientnet_b0 - Epoch 9/25: 100%|██████████████████████████████████████████████████| 184/184 [17:29<00:00,  5.71s/it]\n"
     ]
    },
    {
     "name": "stdout",
     "output_type": "stream",
     "text": [
      "efficientnet_b0 Validation Accuracy: 78.10%\n"
     ]
    },
    {
     "name": "stderr",
     "output_type": "stream",
     "text": [
      "efficientnet_b0 - Epoch 10/25: 100%|█████████████████████████████████████████████████| 184/184 [18:58<00:00,  6.19s/it]\n"
     ]
    },
    {
     "name": "stdout",
     "output_type": "stream",
     "text": [
      "efficientnet_b0 Validation Accuracy: 78.46%\n"
     ]
    },
    {
     "name": "stderr",
     "output_type": "stream",
     "text": [
      "efficientnet_b0 - Epoch 11/25: 100%|█████████████████████████████████████████████████| 184/184 [15:56<00:00,  5.20s/it]\n"
     ]
    },
    {
     "name": "stdout",
     "output_type": "stream",
     "text": [
      "efficientnet_b0 Validation Accuracy: 78.10%\n"
     ]
    },
    {
     "name": "stderr",
     "output_type": "stream",
     "text": [
      "efficientnet_b0 - Epoch 12/25: 100%|█████████████████████████████████████████████████| 184/184 [15:31<00:00,  5.06s/it]\n"
     ]
    },
    {
     "name": "stdout",
     "output_type": "stream",
     "text": [
      "efficientnet_b0 Validation Accuracy: 77.80%\n"
     ]
    },
    {
     "name": "stderr",
     "output_type": "stream",
     "text": [
      "efficientnet_b0 - Epoch 13/25: 100%|█████████████████████████████████████████████████| 184/184 [15:46<00:00,  5.15s/it]\n"
     ]
    },
    {
     "name": "stdout",
     "output_type": "stream",
     "text": [
      "efficientnet_b0 Validation Accuracy: 76.73%\n"
     ]
    },
    {
     "name": "stderr",
     "output_type": "stream",
     "text": [
      "efficientnet_b0 - Epoch 14/25: 100%|█████████████████████████████████████████████████| 184/184 [15:54<00:00,  5.19s/it]\n"
     ]
    },
    {
     "name": "stdout",
     "output_type": "stream",
     "text": [
      "efficientnet_b0 Validation Accuracy: 75.95%\n"
     ]
    },
    {
     "name": "stderr",
     "output_type": "stream",
     "text": [
      "efficientnet_b0 - Epoch 15/25: 100%|█████████████████████████████████████████████████| 184/184 [15:29<00:00,  5.05s/it]\n"
     ]
    },
    {
     "name": "stdout",
     "output_type": "stream",
     "text": [
      "efficientnet_b0 Validation Accuracy: 75.78%\n"
     ]
    },
    {
     "name": "stderr",
     "output_type": "stream",
     "text": [
      "efficientnet_b0 - Epoch 16/25: 100%|█████████████████████████████████████████████████| 184/184 [15:40<00:00,  5.11s/it]\n"
     ]
    },
    {
     "name": "stdout",
     "output_type": "stream",
     "text": [
      "efficientnet_b0 Validation Accuracy: 75.72%\n"
     ]
    },
    {
     "name": "stderr",
     "output_type": "stream",
     "text": [
      "efficientnet_b0 - Epoch 17/25: 100%|█████████████████████████████████████████████████| 184/184 [15:30<00:00,  5.06s/it]\n"
     ]
    },
    {
     "name": "stdout",
     "output_type": "stream",
     "text": [
      "efficientnet_b0 Validation Accuracy: 77.15%\n"
     ]
    },
    {
     "name": "stderr",
     "output_type": "stream",
     "text": [
      "efficientnet_b0 - Epoch 18/25: 100%|█████████████████████████████████████████████████| 184/184 [15:36<00:00,  5.09s/it]\n"
     ]
    },
    {
     "name": "stdout",
     "output_type": "stream",
     "text": [
      "efficientnet_b0 Validation Accuracy: 76.73%\n"
     ]
    },
    {
     "name": "stderr",
     "output_type": "stream",
     "text": [
      "efficientnet_b0 - Epoch 19/25: 100%|█████████████████████████████████████████████████| 184/184 [15:39<00:00,  5.10s/it]\n"
     ]
    },
    {
     "name": "stdout",
     "output_type": "stream",
     "text": [
      "efficientnet_b0 Validation Accuracy: 77.68%\n"
     ]
    },
    {
     "name": "stderr",
     "output_type": "stream",
     "text": [
      "efficientnet_b0 - Epoch 20/25: 100%|█████████████████████████████████████████████████| 184/184 [15:47<00:00,  5.15s/it]\n"
     ]
    },
    {
     "name": "stdout",
     "output_type": "stream",
     "text": [
      "efficientnet_b0 Validation Accuracy: 76.73%\n"
     ]
    },
    {
     "name": "stderr",
     "output_type": "stream",
     "text": [
      "efficientnet_b0 - Epoch 21/25: 100%|█████████████████████████████████████████████████| 184/184 [15:35<00:00,  5.08s/it]\n"
     ]
    },
    {
     "name": "stdout",
     "output_type": "stream",
     "text": [
      "efficientnet_b0 Validation Accuracy: 79.12%\n"
     ]
    },
    {
     "name": "stderr",
     "output_type": "stream",
     "text": [
      "efficientnet_b0 - Epoch 22/25: 100%|█████████████████████████████████████████████████| 184/184 [15:42<00:00,  5.12s/it]\n"
     ]
    },
    {
     "name": "stdout",
     "output_type": "stream",
     "text": [
      "efficientnet_b0 Validation Accuracy: 77.45%\n"
     ]
    },
    {
     "name": "stderr",
     "output_type": "stream",
     "text": [
      "efficientnet_b0 - Epoch 23/25: 100%|█████████████████████████████████████████████████| 184/184 [15:33<00:00,  5.07s/it]\n"
     ]
    },
    {
     "name": "stdout",
     "output_type": "stream",
     "text": [
      "efficientnet_b0 Validation Accuracy: 77.74%\n"
     ]
    },
    {
     "name": "stderr",
     "output_type": "stream",
     "text": [
      "efficientnet_b0 - Epoch 24/25: 100%|█████████████████████████████████████████████████| 184/184 [15:48<00:00,  5.16s/it]\n"
     ]
    },
    {
     "name": "stdout",
     "output_type": "stream",
     "text": [
      "efficientnet_b0 Validation Accuracy: 76.07%\n"
     ]
    },
    {
     "name": "stderr",
     "output_type": "stream",
     "text": [
      "efficientnet_b0 - Epoch 25/25: 100%|█████████████████████████████████████████████████| 184/184 [15:40<00:00,  5.11s/it]\n"
     ]
    },
    {
     "name": "stdout",
     "output_type": "stream",
     "text": [
      "efficientnet_b0 Validation Accuracy: 78.58%\n",
      "\n",
      "efficientnet_b0 Test Accuracy: 79.47%\n",
      "              precision    recall  f1-score   support\n",
      "\n",
      "      Normal       0.76      0.89      0.82       431\n",
      "    Fracture       0.85      0.70      0.77       407\n",
      "\n",
      "    accuracy                           0.79       838\n",
      "   macro avg       0.80      0.79      0.79       838\n",
      "weighted avg       0.80      0.79      0.79       838\n",
      "\n"
     ]
    },
    {
     "data": {
      "image/png": "[encoded data removed]",
      "text/plain": [
       "<Figure size 600x600 with 2 Axes>"
      ]
     },
     "metadata": {},
     "output_type": "display_data"
    },
    {
     "name": "stdout",
     "output_type": "stream",
     "text": [
      "\n",
      "🚀 Starting: resnet50\n"
     ]
    },
    {
     "name": "stderr",
     "output_type": "stream",
     "text": [
      "resnet50 - Epoch 1/25: 100%|█████████████████████████████████████████████████████████| 184/184 [38:55<00:00, 12.69s/it]\n"
     ]
    },
    {
     "name": "stdout",
     "output_type": "stream",
     "text": [
      "resnet50 Validation Accuracy: 71.00%\n"
     ]
    },
    {
     "name": "stderr",
     "output_type": "stream",
     "text": [
      "resnet50 - Epoch 2/25: 100%|█████████████████████████████████████████████████████████| 184/184 [37:55<00:00, 12.37s/it]\n"
     ]
    },
    {
     "name": "stdout",
     "output_type": "stream",
     "text": [
      "resnet50 Validation Accuracy: 73.69%\n"
     ]
    },
    {
     "name": "stderr",
     "output_type": "stream",
     "text": [
      "resnet50 - Epoch 3/25: 100%|█████████████████████████████████████████████████████████| 184/184 [39:01<00:00, 12.73s/it]\n"
     ]
    },
    {
     "name": "stdout",
     "output_type": "stream",
     "text": [
      "resnet50 Validation Accuracy: 74.22%\n"
     ]
    },
    {
     "name": "stderr",
     "output_type": "stream",
     "text": [
      "resnet50 - Epoch 4/25: 100%|█████████████████████████████████████████████████████████| 184/184 [38:01<00:00, 12.40s/it]\n"
     ]
    },
    {
     "name": "stdout",
     "output_type": "stream",
     "text": [
      "resnet50 Validation Accuracy: 73.75%\n"
     ]
    },
    {
     "name": "stderr",
     "output_type": "stream",
     "text": [
      "resnet50 - Epoch 5/25: 100%|█████████████████████████████████████████████████████████| 184/184 [37:23<00:00, 12.19s/it]\n"
     ]
    },
    {
     "name": "stdout",
     "output_type": "stream",
     "text": [
      "resnet50 Validation Accuracy: 74.64%\n"
     ]
    },
    {
     "name": "stderr",
     "output_type": "stream",
     "text": [
      "resnet50 - Epoch 6/25: 100%|█████████████████████████████████████████████████████████| 184/184 [37:15<00:00, 12.15s/it]\n"
     ]
    },
    {
     "name": "stdout",
     "output_type": "stream",
     "text": [
      "resnet50 Validation Accuracy: 76.91%\n"
     ]
    },
    {
     "name": "stderr",
     "output_type": "stream",
     "text": [
      "resnet50 - Epoch 7/25: 100%|█████████████████████████████████████████████████████████| 184/184 [37:54<00:00, 12.36s/it]\n"
     ]
    },
    {
     "name": "stdout",
     "output_type": "stream",
     "text": [
      "resnet50 Validation Accuracy: 76.43%\n"
     ]
    },
    {
     "name": "stderr",
     "output_type": "stream",
     "text": [
      "resnet50 - Epoch 8/25: 100%|█████████████████████████████████████████████████████████| 184/184 [37:24<00:00, 12.20s/it]\n"
     ]
    },
    {
     "name": "stdout",
     "output_type": "stream",
     "text": [
      "resnet50 Validation Accuracy: 77.80%\n"
     ]
    },
    {
     "name": "stderr",
     "output_type": "stream",
     "text": [
      "resnet50 - Epoch 9/25: 100%|█████████████████████████████████████████████████████████| 184/184 [37:31<00:00, 12.24s/it]\n"
     ]
    },
    {
     "name": "stdout",
     "output_type": "stream",
     "text": [
      "resnet50 Validation Accuracy: 77.57%\n"
     ]
    },
    {
     "name": "stderr",
     "output_type": "stream",
     "text": [
      "resnet50 - Epoch 10/25: 100%|████████████████████████████████████████████████████████| 184/184 [37:43<00:00, 12.30s/it]\n"
     ]
    },
    {
     "name": "stdout",
     "output_type": "stream",
     "text": [
      "resnet50 Validation Accuracy: 77.80%\n"
     ]
    },
    {
     "name": "stderr",
     "output_type": "stream",
     "text": [
      "resnet50 - Epoch 11/25: 100%|████████████████████████████████████████████████████████| 184/184 [37:41<00:00, 12.29s/it]\n"
     ]
    },
    {
     "name": "stdout",
     "output_type": "stream",
     "text": [
      "resnet50 Validation Accuracy: 77.80%\n"
     ]
    },
    {
     "name": "stderr",
     "output_type": "stream",
     "text": [
      "resnet50 - Epoch 12/25: 100%|████████████████████████████████████████████████████████| 184/184 [37:50<00:00, 12.34s/it]\n"
     ]
    },
    {
     "name": "stdout",
     "output_type": "stream",
     "text": [
      "resnet50 Validation Accuracy: 78.10%\n"
     ]
    },
    {
     "name": "stderr",
     "output_type": "stream",
     "text": [
      "resnet50 - Epoch 13/25: 100%|████████████████████████████████████████████████████████| 184/184 [37:59<00:00, 12.39s/it]\n"
     ]
    },
    {
     "name": "stdout",
     "output_type": "stream",
     "text": [
      "resnet50 Validation Accuracy: 77.33%\n"
     ]
    },
    {
     "name": "stderr",
     "output_type": "stream",
     "text": [
      "resnet50 - Epoch 14/25: 100%|████████████████████████████████████████████████████████| 184/184 [37:53<00:00, 12.36s/it]\n"
     ]
    },
    {
     "name": "stdout",
     "output_type": "stream",
     "text": [
      "resnet50 Validation Accuracy: 77.27%\n"
     ]
    },
    {
     "name": "stderr",
     "output_type": "stream",
     "text": [
      "resnet50 - Epoch 15/25: 100%|████████████████████████████████████████████████████████| 184/184 [37:36<00:00, 12.26s/it]\n"
     ]
    },
    {
     "name": "stdout",
     "output_type": "stream",
     "text": [
      "resnet50 Validation Accuracy: 74.58%\n"
     ]
    },
    {
     "name": "stderr",
     "output_type": "stream",
     "text": [
      "resnet50 - Epoch 16/25: 100%|████████████████████████████████████████████████████████| 184/184 [37:22<00:00, 12.19s/it]\n"
     ]
    },
    {
     "name": "stdout",
     "output_type": "stream",
     "text": [
      "resnet50 Validation Accuracy: 73.03%\n"
     ]
    },
    {
     "name": "stderr",
     "output_type": "stream",
     "text": [
      "resnet50 - Epoch 17/25: 100%|████████████████████████████████████████████████████████| 184/184 [37:55<00:00, 12.36s/it]\n"
     ]
    },
    {
     "name": "stdout",
     "output_type": "stream",
     "text": [
      "resnet50 Validation Accuracy: 74.82%\n"
     ]
    },
    {
     "name": "stderr",
     "output_type": "stream",
     "text": [
      "resnet50 - Epoch 18/25: 100%|████████████████████████████████████████████████████████| 184/184 [37:52<00:00, 12.35s/it]\n"
     ]
    },
    {
     "name": "stdout",
     "output_type": "stream",
     "text": [
      "resnet50 Validation Accuracy: 74.34%\n"
     ]
    },
    {
     "name": "stderr",
     "output_type": "stream",
     "text": [
      "resnet50 - Epoch 19/25: 100%|████████████████████████████████████████████████████████| 184/184 [38:23<00:00, 12.52s/it]\n"
     ]
    },
    {
     "name": "stdout",
     "output_type": "stream",
     "text": [
      "resnet50 Validation Accuracy: 75.60%\n"
     ]
    },
    {
     "name": "stderr",
     "output_type": "stream",
     "text": [
      "resnet50 - Epoch 20/25: 100%|████████████████████████████████████████████████████████| 184/184 [38:13<00:00, 12.46s/it]\n"
     ]
    },
    {
     "name": "stdout",
     "output_type": "stream",
     "text": [
      "resnet50 Validation Accuracy: 72.97%\n"
     ]
    },
    {
     "name": "stderr",
     "output_type": "stream",
     "text": [
      "resnet50 - Epoch 21/25: 100%|████████████████████████████████████████████████████████| 184/184 [38:56<00:00, 12.70s/it]\n"
     ]
    },
    {
     "name": "stdout",
     "output_type": "stream",
     "text": [
      "resnet50 Validation Accuracy: 72.97%\n"
     ]
    },
    {
     "name": "stderr",
     "output_type": "stream",
     "text": [
      "resnet50 - Epoch 22/25: 100%|████████████████████████████████████████████████████████| 184/184 [39:46<00:00, 12.97s/it]\n"
     ]
    },
    {
     "name": "stdout",
     "output_type": "stream",
     "text": [
      "resnet50 Validation Accuracy: 75.00%\n"
     ]
    },
    {
     "name": "stderr",
     "output_type": "stream",
     "text": [
      "resnet50 - Epoch 23/25: 100%|████████████████████████████████████████████████████████| 184/184 [38:20<00:00, 12.51s/it]\n"
     ]
    },
    {
     "name": "stdout",
     "output_type": "stream",
     "text": [
      "resnet50 Validation Accuracy: 73.75%\n"
     ]
    },
    {
     "name": "stderr",
     "output_type": "stream",
     "text": [
      "resnet50 - Epoch 24/25: 100%|████████████████████████████████████████████████████████| 184/184 [39:25<00:00, 12.85s/it]\n"
     ]
    },
    {
     "name": "stdout",
     "output_type": "stream",
     "text": [
      "resnet50 Validation Accuracy: 76.79%\n"
     ]
    },
    {
     "name": "stderr",
     "output_type": "stream",
     "text": [
      "resnet50 - Epoch 25/25: 100%|████████████████████████████████████████████████████████| 184/184 [38:39<00:00, 12.61s/it]\n"
     ]
    },
    {
     "name": "stdout",
     "output_type": "stream",
     "text": [
      "resnet50 Validation Accuracy: 76.55%\n",
      "\n",
      "resnet50 Test Accuracy: 80.43%\n",
      "              precision    recall  f1-score   support\n",
      "\n",
      "      Normal       0.79      0.84      0.82       431\n",
      "    Fracture       0.82      0.76      0.79       407\n",
      "\n",
      "    accuracy                           0.80       838\n",
      "   macro avg       0.81      0.80      0.80       838\n",
      "weighted avg       0.81      0.80      0.80       838\n",
      "\n"
     ]
    },
    {
     "data": {
      "image/png": "[encoded data removed]",
      "text/plain": [
       "<Figure size 600x600 with 2 Axes>"
      ]
     },
     "metadata": {},
     "output_type": "display_data"
    },
    {
     "name": "stdout",
     "output_type": "stream",
     "text": [
      "\n",
      "🚀 Starting: densenet121\n"
     ]
    },
    {
     "name": "stderr",
     "output_type": "stream",
     "text": [
      "densenet121 - Epoch 1/25: 100%|████████████████████████████████████████████████████| 184/184 [2:23:00<00:00, 46.63s/it]\n"
     ]
    },
    {
     "name": "stdout",
     "output_type": "stream",
     "text": [
      "densenet121 Validation Accuracy: 64.62%\n"
     ]
    },
    {
     "name": "stderr",
     "output_type": "stream",
     "text": [
      "densenet121 - Epoch 2/25: 100%|████████████████████████████████████████████████████| 184/184 [2:24:21<00:00, 47.08s/it]\n"
     ]
    },
    {
     "name": "stdout",
     "output_type": "stream",
     "text": [
      "densenet121 Validation Accuracy: 64.68%\n"
     ]
    },
    {
     "name": "stderr",
     "output_type": "stream",
     "text": [
      "densenet121 - Epoch 3/25: 100%|████████████████████████████████████████████████████| 184/184 [2:24:03<00:00, 46.98s/it]\n"
     ]
    },
    {
     "name": "stdout",
     "output_type": "stream",
     "text": [
      "densenet121 Validation Accuracy: 68.32%\n"
     ]
    },
    {
     "name": "stderr",
     "output_type": "stream",
     "text": [
      "densenet121 - Epoch 4/25: 100%|████████████████████████████████████████████████████| 184/184 [2:24:55<00:00, 47.26s/it]\n"
     ]
    },
    {
     "name": "stdout",
     "output_type": "stream",
     "text": [
      "densenet121 Validation Accuracy: 70.11%\n"
     ]
    },
    {
     "name": "stderr",
     "output_type": "stream",
     "text": [
      "densenet121 - Epoch 5/25: 100%|████████████████████████████████████████████████████| 184/184 [2:23:56<00:00, 46.94s/it]\n"
     ]
    },
    {
     "name": "stdout",
     "output_type": "stream",
     "text": [
      "densenet121 Validation Accuracy: 69.93%\n"
     ]
    },
    {
     "name": "stderr",
     "output_type": "stream",
     "text": [
      "densenet121 - Epoch 6/25: 100%|████████████████████████████████████████████████████| 184/184 [2:22:03<00:00, 46.33s/it]\n"
     ]
    },
    {
     "name": "stdout",
     "output_type": "stream",
     "text": [
      "densenet121 Validation Accuracy: 73.51%\n"
     ]
    },
    {
     "name": "stderr",
     "output_type": "stream",
     "text": [
      "densenet121 - Epoch 7/25: 100%|████████████████████████████████████████████████████| 184/184 [2:26:39<00:00, 47.82s/it]\n"
     ]
    },
    {
     "name": "stdout",
     "output_type": "stream",
     "text": [
      "densenet121 Validation Accuracy: 75.36%\n"
     ]
    },
    {
     "name": "stderr",
     "output_type": "stream",
     "text": [
      "densenet121 - Epoch 8/25: 100%|████████████████████████████████████████████████████| 184/184 [2:25:14<00:00, 47.36s/it]\n"
     ]
    },
    {
     "name": "stdout",
     "output_type": "stream",
     "text": [
      "densenet121 Validation Accuracy: 76.01%\n"
     ]
    },
    {
     "name": "stderr",
     "output_type": "stream",
     "text": [
      "densenet121 - Epoch 9/25: 100%|████████████████████████████████████████████████████| 184/184 [2:25:59<00:00, 47.61s/it]\n"
     ]
    },
    {
     "name": "stdout",
     "output_type": "stream",
     "text": [
      "densenet121 Validation Accuracy: 76.19%\n"
     ]
    },
    {
     "name": "stderr",
     "output_type": "stream",
     "text": [
      "densenet121 - Epoch 10/25: 100%|███████████████████████████████████████████████████| 184/184 [2:25:53<00:00, 47.57s/it]\n"
     ]
    },
    {
     "name": "stdout",
     "output_type": "stream",
     "text": [
      "densenet121 Validation Accuracy: 77.74%\n"
     ]
    },
    {
     "name": "stderr",
     "output_type": "stream",
     "text": [
      "densenet121 - Epoch 11/25: 100%|███████████████████████████████████████████████████| 184/184 [2:26:11<00:00, 47.67s/it]\n"
     ]
    },
    {
     "name": "stdout",
     "output_type": "stream",
     "text": [
      "densenet121 Validation Accuracy: 77.86%\n"
     ]
    },
    {
     "name": "stderr",
     "output_type": "stream",
     "text": [
      "densenet121 - Epoch 12/25: 100%|██████████████████████████████████████████████████| 184/184 [9:49:46<00:00, 192.32s/it]\n"
     ]
    },
    {
     "name": "stdout",
     "output_type": "stream",
     "text": [
      "densenet121 Validation Accuracy: 77.45%\n"
     ]
    },
    {
     "name": "stderr",
     "output_type": "stream",
     "text": [
      "densenet121 - Epoch 13/25: 100%|███████████████████████████████████████████████████| 184/184 [2:20:27<00:00, 45.80s/it]\n"
     ]
    },
    {
     "name": "stdout",
     "output_type": "stream",
     "text": [
      "densenet121 Validation Accuracy: 76.73%\n"
     ]
    },
    {
     "name": "stderr",
     "output_type": "stream",
     "text": [
      "densenet121 - Epoch 14/25: 100%|███████████████████████████████████████████████████| 184/184 [2:19:06<00:00, 45.36s/it]\n"
     ]
    },
    {
     "name": "stdout",
     "output_type": "stream",
     "text": [
      "densenet121 Validation Accuracy: 76.25%\n"
     ]
    },
    {
     "name": "stderr",
     "output_type": "stream",
     "text": [
      "densenet121 - Epoch 15/25: 100%|███████████████████████████████████████████████████| 184/184 [2:20:17<00:00, 45.75s/it]\n"
     ]
    },
    {
     "name": "stdout",
     "output_type": "stream",
     "text": [
      "densenet121 Validation Accuracy: 75.42%\n"
     ]
    },
    {
     "name": "stderr",
     "output_type": "stream",
     "text": [
      "densenet121 - Epoch 16/25: 100%|███████████████████████████████████████████████████| 184/184 [2:26:55<00:00, 47.91s/it]\n"
     ]
    },
    {
     "name": "stdout",
     "output_type": "stream",
     "text": [
      "densenet121 Validation Accuracy: 76.67%\n"
     ]
    },
    {
     "name": "stderr",
     "output_type": "stream",
     "text": [
      "densenet121 - Epoch 17/25: 100%|███████████████████████████████████████████████████| 184/184 [2:16:26<00:00, 44.49s/it]\n"
     ]
    },
    {
     "name": "stdout",
     "output_type": "stream",
     "text": [
      "densenet121 Validation Accuracy: 73.93%\n"
     ]
    },
    {
     "name": "stderr",
     "output_type": "stream",
     "text": [
      "densenet121 - Epoch 18/25: 100%|███████████████████████████████████████████████████| 184/184 [2:17:09<00:00, 44.73s/it]\n"
     ]
    },
    {
     "name": "stdout",
     "output_type": "stream",
     "text": [
      "densenet121 Validation Accuracy: 72.43%\n"
     ]
    },
    {
     "name": "stderr",
     "output_type": "stream",
     "text": [
      "densenet121 - Epoch 19/25: 100%|███████████████████████████████████████████████████| 184/184 [2:18:43<00:00, 45.24s/it]\n"
     ]
    },
    {
     "name": "stdout",
     "output_type": "stream",
     "text": [
      "densenet121 Validation Accuracy: 74.76%\n"
     ]
    },
    {
     "name": "stderr",
     "output_type": "stream",
     "text": [
      "densenet121 - Epoch 20/25: 100%|███████████████████████████████████████████████████| 184/184 [2:16:14<00:00, 44.43s/it]\n"
     ]
    },
    {
     "name": "stdout",
     "output_type": "stream",
     "text": [
      "densenet121 Validation Accuracy: 75.66%\n"
     ]
    },
    {
     "name": "stderr",
     "output_type": "stream",
     "text": [
      "densenet121 - Epoch 21/25: 100%|███████████████████████████████████████████████████| 184/184 [2:16:50<00:00, 44.62s/it]\n"
     ]
    },
    {
     "name": "stdout",
     "output_type": "stream",
     "text": [
      "densenet121 Validation Accuracy: 72.37%\n"
     ]
    },
    {
     "name": "stderr",
     "output_type": "stream",
     "text": [
      "densenet121 - Epoch 22/25: 100%|███████████████████████████████████████████████████| 184/184 [2:14:17<00:00, 43.79s/it]\n"
     ]
    },
    {
     "name": "stdout",
     "output_type": "stream",
     "text": [
      "densenet121 Validation Accuracy: 74.70%\n"
     ]
    },
    {
     "name": "stderr",
     "output_type": "stream",
     "text": [
      "densenet121 - Epoch 23/25: 100%|███████████████████████████████████████████████████| 184/184 [2:16:00<00:00, 44.35s/it]\n"
     ]
    },
    {
     "name": "stdout",
     "output_type": "stream",
     "text": [
      "densenet121 Validation Accuracy: 74.05%\n"
     ]
    },
    {
     "name": "stderr",
     "output_type": "stream",
     "text": [
      "densenet121 - Epoch 24/25: 100%|███████████████████████████████████████████████████| 184/184 [2:17:16<00:00, 44.76s/it]\n"
     ]
    },
    {
     "name": "stdout",
     "output_type": "stream",
     "text": [
      "densenet121 Validation Accuracy: 72.02%\n"
     ]
    },
    {
     "name": "stderr",
     "output_type": "stream",
     "text": [
      "densenet121 - Epoch 25/25: 100%|███████████████████████████████████████████████████| 184/184 [2:19:02<00:00, 45.34s/it]\n"
     ]
    },
    {
     "name": "stdout",
     "output_type": "stream",
     "text": [
      "densenet121 Validation Accuracy: 76.07%\n",
      "\n",
      "densenet121 Test Accuracy: 80.31%\n",
      "              precision    recall  f1-score   support\n",
      "\n",
      "      Normal       0.79      0.84      0.81       431\n",
      "    Fracture       0.82      0.77      0.79       407\n",
      "\n",
      "    accuracy                           0.80       838\n",
      "   macro avg       0.80      0.80      0.80       838\n",
      "weighted avg       0.80      0.80      0.80       838\n",
      "\n"
     ]
    },
    {
     "data": {
      "image/png": "[encoded data removed]",
      "text/plain": [
       "<Figure size 600x600 with 2 Axes>"
      ]
     },
     "metadata": {},
     "output_type": "display_data"
    },
    {
     "name": "stdout",
     "output_type": "stream",
     "text": [
      "\n",
      "🚀 Starting: simplecnn\n"
     ]
    },
    {
     "name": "stderr",
     "output_type": "stream",
     "text": [
      "simplecnn - Epoch 1/25: 100%|████████████████████████████████████████████████████████| 184/184 [02:32<00:00,  1.21it/s]\n"
     ]
    },
    {
     "name": "stdout",
     "output_type": "stream",
     "text": [
      "simplecnn Validation Accuracy: 56.68%\n"
     ]
    },
    {
     "name": "stderr",
     "output_type": "stream",
     "text": [
      "simplecnn - Epoch 2/25: 100%|████████████████████████████████████████████████████████| 184/184 [02:31<00:00,  1.22it/s]\n"
     ]
    },
    {
     "name": "stdout",
     "output_type": "stream",
     "text": [
      "simplecnn Validation Accuracy: 59.13%\n"
     ]
    },
    {
     "name": "stderr",
     "output_type": "stream",
     "text": [
      "simplecnn - Epoch 3/25: 100%|████████████████████████████████████████████████████████| 184/184 [02:33<00:00,  1.20it/s]\n"
     ]
    },
    {
     "name": "stdout",
     "output_type": "stream",
     "text": [
      "simplecnn Validation Accuracy: 61.34%\n"
     ]
    },
    {
     "name": "stderr",
     "output_type": "stream",
     "text": [
      "simplecnn - Epoch 4/25: 100%|████████████████████████████████████████████████████████| 184/184 [02:33<00:00,  1.20it/s]\n"
     ]
    },
    {
     "name": "stdout",
     "output_type": "stream",
     "text": [
      "simplecnn Validation Accuracy: 60.80%\n"
     ]
    },
    {
     "name": "stderr",
     "output_type": "stream",
     "text": [
      "simplecnn - Epoch 5/25: 100%|████████████████████████████████████████████████████████| 184/184 [02:32<00:00,  1.20it/s]\n"
     ]
    },
    {
     "name": "stdout",
     "output_type": "stream",
     "text": [
      "simplecnn Validation Accuracy: 60.44%\n"
     ]
    },
    {
     "name": "stderr",
     "output_type": "stream",
     "text": [
      "simplecnn - Epoch 6/25: 100%|████████████████████████████████████████████████████████| 184/184 [02:32<00:00,  1.21it/s]\n"
     ]
    },
    {
     "name": "stdout",
     "output_type": "stream",
     "text": [
      "simplecnn Validation Accuracy: 61.63%\n"
     ]
    },
    {
     "name": "stderr",
     "output_type": "stream",
     "text": [
      "simplecnn - Epoch 7/25: 100%|████████████████████████████████████████████████████████| 184/184 [02:33<00:00,  1.20it/s]\n"
     ]
    },
    {
     "name": "stdout",
     "output_type": "stream",
     "text": [
      "simplecnn Validation Accuracy: 61.99%\n"
     ]
    },
    {
     "name": "stderr",
     "output_type": "stream",
     "text": [
      "simplecnn - Epoch 8/25: 100%|████████████████████████████████████████████████████████| 184/184 [02:32<00:00,  1.20it/s]\n"
     ]
    },
    {
     "name": "stdout",
     "output_type": "stream",
     "text": [
      "simplecnn Validation Accuracy: 62.29%\n"
     ]
    },
    {
     "name": "stderr",
     "output_type": "stream",
     "text": [
      "simplecnn - Epoch 9/25: 100%|████████████████████████████████████████████████████████| 184/184 [02:32<00:00,  1.21it/s]\n"
     ]
    },
    {
     "name": "stdout",
     "output_type": "stream",
     "text": [
      "simplecnn Validation Accuracy: 62.41%\n"
     ]
    },
    {
     "name": "stderr",
     "output_type": "stream",
     "text": [
      "simplecnn - Epoch 10/25: 100%|███████████████████████████████████████████████████████| 184/184 [02:32<00:00,  1.20it/s]\n"
     ]
    },
    {
     "name": "stdout",
     "output_type": "stream",
     "text": [
      "simplecnn Validation Accuracy: 62.47%\n"
     ]
    },
    {
     "name": "stderr",
     "output_type": "stream",
     "text": [
      "simplecnn - Epoch 11/25: 100%|███████████████████████████████████████████████████████| 184/184 [02:32<00:00,  1.21it/s]\n"
     ]
    },
    {
     "name": "stdout",
     "output_type": "stream",
     "text": [
      "simplecnn Validation Accuracy: 62.47%\n"
     ]
    },
    {
     "name": "stderr",
     "output_type": "stream",
     "text": [
      "simplecnn - Epoch 12/25: 100%|███████████████████████████████████████████████████████| 184/184 [02:33<00:00,  1.20it/s]\n"
     ]
    },
    {
     "name": "stdout",
     "output_type": "stream",
     "text": [
      "simplecnn Validation Accuracy: 62.77%\n"
     ]
    },
    {
     "name": "stderr",
     "output_type": "stream",
     "text": [
      "simplecnn - Epoch 13/25: 100%|███████████████████████████████████████████████████████| 184/184 [02:31<00:00,  1.22it/s]\n"
     ]
    },
    {
     "name": "stdout",
     "output_type": "stream",
     "text": [
      "simplecnn Validation Accuracy: 62.17%\n"
     ]
    },
    {
     "name": "stderr",
     "output_type": "stream",
     "text": [
      "simplecnn - Epoch 14/25: 100%|███████████████████████████████████████████████████████| 184/184 [02:34<00:00,  1.19it/s]\n"
     ]
    },
    {
     "name": "stdout",
     "output_type": "stream",
     "text": [
      "simplecnn Validation Accuracy: 61.22%\n"
     ]
    },
    {
     "name": "stderr",
     "output_type": "stream",
     "text": [
      "simplecnn - Epoch 15/25: 100%|███████████████████████████████████████████████████████| 184/184 [02:33<00:00,  1.20it/s]\n"
     ]
    },
    {
     "name": "stdout",
     "output_type": "stream",
     "text": [
      "simplecnn Validation Accuracy: 62.23%\n"
     ]
    },
    {
     "name": "stderr",
     "output_type": "stream",
     "text": [
      "simplecnn - Epoch 16/25: 100%|███████████████████████████████████████████████████████| 184/184 [02:31<00:00,  1.21it/s]\n"
     ]
    },
    {
     "name": "stdout",
     "output_type": "stream",
     "text": [
      "simplecnn Validation Accuracy: 61.16%\n"
     ]
    },
    {
     "name": "stderr",
     "output_type": "stream",
     "text": [
      "simplecnn - Epoch 17/25: 100%|███████████████████████████████████████████████████████| 184/184 [02:31<00:00,  1.21it/s]\n"
     ]
    },
    {
     "name": "stdout",
     "output_type": "stream",
     "text": [
      "simplecnn Validation Accuracy: 61.52%\n"
     ]
    },
    {
     "name": "stderr",
     "output_type": "stream",
     "text": [
      "simplecnn - Epoch 18/25: 100%|███████████████████████████████████████████████████████| 184/184 [02:31<00:00,  1.21it/s]\n"
     ]
    },
    {
     "name": "stdout",
     "output_type": "stream",
     "text": [
      "simplecnn Validation Accuracy: 61.28%\n"
     ]
    },
    {
     "name": "stderr",
     "output_type": "stream",
     "text": [
      "simplecnn - Epoch 19/25: 100%|███████████████████████████████████████████████████████| 184/184 [02:33<00:00,  1.20it/s]\n"
     ]
    },
    {
     "name": "stdout",
     "output_type": "stream",
     "text": [
      "simplecnn Validation Accuracy: 61.22%\n"
     ]
    },
    {
     "name": "stderr",
     "output_type": "stream",
     "text": [
      "simplecnn - Epoch 20/25: 100%|███████████████████████████████████████████████████████| 184/184 [02:35<00:00,  1.18it/s]\n"
     ]
    },
    {
     "name": "stdout",
     "output_type": "stream",
     "text": [
      "simplecnn Validation Accuracy: 60.26%\n"
     ]
    },
    {
     "name": "stderr",
     "output_type": "stream",
     "text": [
      "simplecnn - Epoch 21/25: 100%|███████████████████████████████████████████████████████| 184/184 [02:36<00:00,  1.17it/s]\n"
     ]
    },
    {
     "name": "stdout",
     "output_type": "stream",
     "text": [
      "simplecnn Validation Accuracy: 60.20%\n"
     ]
    },
    {
     "name": "stderr",
     "output_type": "stream",
     "text": [
      "simplecnn - Epoch 22/25: 100%|███████████████████████████████████████████████████████| 184/184 [02:34<00:00,  1.19it/s]\n"
     ]
    },
    {
     "name": "stdout",
     "output_type": "stream",
     "text": [
      "simplecnn Validation Accuracy: 60.02%\n"
     ]
    },
    {
     "name": "stderr",
     "output_type": "stream",
     "text": [
      "simplecnn - Epoch 23/25: 100%|███████████████████████████████████████████████████████| 184/184 [02:35<00:00,  1.19it/s]\n"
     ]
    },
    {
     "name": "stdout",
     "output_type": "stream",
     "text": [
      "simplecnn Validation Accuracy: 60.74%\n"
     ]
    },
    {
     "name": "stderr",
     "output_type": "stream",
     "text": [
      "simplecnn - Epoch 24/25: 100%|███████████████████████████████████████████████████████| 184/184 [02:34<00:00,  1.19it/s]\n"
     ]
    },
    {
     "name": "stdout",
     "output_type": "stream",
     "text": [
      "simplecnn Validation Accuracy: 61.46%\n"
     ]
    },
    {
     "name": "stderr",
     "output_type": "stream",
     "text": [
      "simplecnn - Epoch 25/25: 100%|███████████████████████████████████████████████████████| 184/184 [02:35<00:00,  1.19it/s]\n"
     ]
    },
    {
     "name": "stdout",
     "output_type": "stream",
     "text": [
      "simplecnn Validation Accuracy: 59.67%\n",
      "\n",
      "simplecnn Test Accuracy: 63.84%\n",
      "              precision    recall  f1-score   support\n",
      "\n",
      "      Normal       0.68      0.56      0.61       431\n",
      "    Fracture       0.61      0.72      0.66       407\n",
      "\n",
      "    accuracy                           0.64       838\n",
      "   macro avg       0.64      0.64      0.64       838\n",
      "weighted avg       0.64      0.64      0.64       838\n",
      "\n"
     ]
    },
    {
     "data": {
      "image/png": "[encoded data removed]",
      "text/plain": [
       "<Figure size 600x600 with 2 Axes>"
      ]
     },
     "metadata": {},
     "output_type": "display_data"
    }
   ],
   "source": [
    "# This block trains each model one-by-one and stores predictions for ensemble use later.\n",
    "model_names = ['efficientnet_b0', 'resnet50', 'densenet121', 'simplecnn']\n",
    "all_accuracies = {}\n",
    "all_model_probs = []\n",
    "true_labels = None\n",
    "\n",
    "for model_name in model_names:\n",
    "    print(f\"\\n🚀 Starting: {model_name}\")\n",
    "    model = get_model(model_name)\n",
    "    trained_model = train_model(model, model_name, train_loader, valid_loader, epochs=25)\n",
    "    probs, true_labels, acc = evaluate_model(trained_model, model_name, return_preds=True)\n",
    "    all_accuracies[model_name] = acc\n",
    "    all_model_probs.append(probs)"
   ]
  },
  {
   "cell_type": "code",
   "execution_count": 13,
   "metadata": {},
   "outputs": [
    {
     "name": "stdout",
     "output_type": "stream",
     "text": [
      "\n",
      "🌟 Ensemble Test Accuracy: 81.15%\n",
      "              precision    recall  f1-score   support\n",
      "\n",
      "      Normal       0.79      0.86      0.82       431\n",
      "    Fracture       0.84      0.76      0.80       407\n",
      "\n",
      "    accuracy                           0.81       838\n",
      "   macro avg       0.81      0.81      0.81       838\n",
      "weighted avg       0.81      0.81      0.81       838\n",
      "\n"
     ]
    },
    {
     "data": {
      "image/png": "[encoded data removed]",
      "text/plain": [
       "<Figure size 600x600 with 2 Axes>"
      ]
     },
     "metadata": {},
     "output_type": "display_data"
    },
    {
     "name": "stdout",
     "output_type": "stream",
     "text": [
      "\n",
      "📊 === Summary of Model Accuracies ===\n",
      "efficientnet_b0: 79.47%\n",
      "resnet50: 80.43%\n",
      "densenet121: 80.31%\n",
      "simplecnn: 63.84%\n",
      "Ensemble: 81.15%\n"
     ]
    }
   ],
   "source": [
    "# Averages predictions from all models and computes final accuracy.\n",
    "ensemble_probs = np.mean(np.array(all_model_probs), axis=0)\n",
    "ensemble_preds = (ensemble_probs > 0.5).astype(int)\n",
    "ensemble_acc = 100 * np.mean(np.array(ensemble_preds) == np.array(true_labels))\n",
    "\n",
    "print(f\"\\n🌟 Ensemble Test Accuracy: {ensemble_acc:.2f}%\")\n",
    "print(classification_report(true_labels, ensemble_preds, target_names=[\"Normal\", \"Fracture\"]))\n",
    "cm = confusion_matrix(true_labels, ensemble_preds)\n",
    "plt.figure(figsize=(6, 6))\n",
    "sns.heatmap(cm, annot=True, fmt='d', cmap='Blues', xticklabels=['Normal', 'Fracture'], yticklabels=['Normal', 'Fracture'])\n",
    "plt.title('Ensemble - Confusion Matrix')\n",
    "plt.xlabel('Predicted')\n",
    "plt.ylabel('Actual')\n",
    "plt.show()\n",
    "\n",
    "# Final accuracy summary\n",
    "print(\"\\n📊 === Summary of Model Accuracies ===\")\n",
    "for name, acc in all_accuracies.items():\n",
    "    print(f\"{name}: {acc:.2f}%\")\n",
    "print(f\"Ensemble: {ensemble_acc:.2f}%\")\n"
   ]
  }
 ],
 "metadata": {
  "kernelspec": {
   "display_name": "Python (cv2-env)",
   "language": "python",
   "name": "cv2-env"
  },
  "language_info": {
   "codemirror_mode": {
    "name": "ipython",
    "version": 3
   },
   "file_extension": ".py",
   "mimetype": "text/x-python",
   "name": "python",
   "nbconvert_exporter": "python",
   "pygments_lexer": "ipython3",
   "version": "3.10.0"
  }
 },
 "nbformat": 4,
 "nbformat_minor": 2
}
